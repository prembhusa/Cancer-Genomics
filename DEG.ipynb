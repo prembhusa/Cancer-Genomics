{
 "cells": [
  {
   "cell_type": "code",
   "execution_count": 19,
   "id": "46fe27bc",
   "metadata": {},
   "outputs": [],
   "source": [
    "import pandas as pd \n",
    "import numpy as np\n",
    "import seaborn as sns \n",
    "import matplotlib.pyplot as plt"
   ]
  },
  {
   "cell_type": "code",
   "execution_count": 20,
   "id": "d1167deb",
   "metadata": {},
   "outputs": [],
   "source": [
    "def cpm(a1):\n",
    "    a=a1._get_numeric_data()\n",
    "    try:\n",
    "        cpm=[]\n",
    "        for i in range(0,len(a.columns)):\n",
    "                colsum=a.iloc[:,i].sum()\n",
    "\n",
    "                c1=(a.iloc[:,i]/colsum)*10**6\n",
    "                cpm.append(c1)\n",
    "    \n",
    "    except:\n",
    "        print(\"ignore error\")\n",
    "    cpm=np.array(cpm)\n",
    "    \n",
    "    return cpm"
   ]
  },
  {
   "cell_type": "code",
   "execution_count": 21,
   "id": "1b746838",
   "metadata": {},
   "outputs": [],
   "source": [
    "data=pd.read_csv('GSE198857_22-0902_RPTEC_normalized_counts.csv.gz')\n",
    "gene_name=data['symbol']"
   ]
  },
  {
   "cell_type": "code",
   "execution_count": 22,
   "id": "af489eaf",
   "metadata": {},
   "outputs": [
    {
     "data": {
      "text/html": [
       "<div>\n",
       "<style scoped>\n",
       "    .dataframe tbody tr th:only-of-type {\n",
       "        vertical-align: middle;\n",
       "    }\n",
       "\n",
       "    .dataframe tbody tr th {\n",
       "        vertical-align: top;\n",
       "    }\n",
       "\n",
       "    .dataframe thead th {\n",
       "        text-align: right;\n",
       "    }\n",
       "</style>\n",
       "<table border=\"1\" class=\"dataframe\">\n",
       "  <thead>\n",
       "    <tr style=\"text-align: right;\">\n",
       "      <th></th>\n",
       "      <th>gene</th>\n",
       "      <th>symbol</th>\n",
       "      <th>RPTEC_2D_1</th>\n",
       "      <th>RPTEC_2D_2</th>\n",
       "      <th>RPTEC_2D_3</th>\n",
       "      <th>RPTEC_3D_D31_1</th>\n",
       "      <th>RPTEC_3D_D31_2</th>\n",
       "      <th>RPTEC_3D_D31_3</th>\n",
       "      <th>RPTEC_3D_D67_1</th>\n",
       "      <th>RPTEC_3D_D67_2</th>\n",
       "      <th>RPTEC_3D_D67_3</th>\n",
       "    </tr>\n",
       "  </thead>\n",
       "  <tbody>\n",
       "    <tr>\n",
       "      <th>0</th>\n",
       "      <td>ENSG00000160072</td>\n",
       "      <td>ATAD3B</td>\n",
       "      <td>334.128127</td>\n",
       "      <td>313.973628</td>\n",
       "      <td>355.184647</td>\n",
       "      <td>372.602687</td>\n",
       "      <td>349.114230</td>\n",
       "      <td>443.305426</td>\n",
       "      <td>618.156178</td>\n",
       "      <td>609.689109</td>\n",
       "      <td>656.600444</td>\n",
       "    </tr>\n",
       "    <tr>\n",
       "      <th>1</th>\n",
       "      <td>ENSG00000234396</td>\n",
       "      <td>AL590822.1</td>\n",
       "      <td>1.392201</td>\n",
       "      <td>0.000000</td>\n",
       "      <td>0.000000</td>\n",
       "      <td>0.000000</td>\n",
       "      <td>0.000000</td>\n",
       "      <td>0.000000</td>\n",
       "      <td>0.000000</td>\n",
       "      <td>0.000000</td>\n",
       "      <td>0.000000</td>\n",
       "    </tr>\n",
       "    <tr>\n",
       "      <th>2</th>\n",
       "      <td>ENSG00000225972</td>\n",
       "      <td>MTND1P23</td>\n",
       "      <td>1.392201</td>\n",
       "      <td>3.352032</td>\n",
       "      <td>3.214341</td>\n",
       "      <td>0.911009</td>\n",
       "      <td>0.000000</td>\n",
       "      <td>1.731662</td>\n",
       "      <td>3.419951</td>\n",
       "      <td>6.591234</td>\n",
       "      <td>3.963383</td>\n",
       "    </tr>\n",
       "    <tr>\n",
       "      <th>3</th>\n",
       "      <td>ENSG00000224315</td>\n",
       "      <td>RPL7P7</td>\n",
       "      <td>0.000000</td>\n",
       "      <td>1.117344</td>\n",
       "      <td>0.000000</td>\n",
       "      <td>0.000000</td>\n",
       "      <td>0.000000</td>\n",
       "      <td>0.865831</td>\n",
       "      <td>0.000000</td>\n",
       "      <td>0.659123</td>\n",
       "      <td>0.660564</td>\n",
       "    </tr>\n",
       "    <tr>\n",
       "      <th>4</th>\n",
       "      <td>ENSG00000198744</td>\n",
       "      <td>MTCO3P12</td>\n",
       "      <td>64.041224</td>\n",
       "      <td>65.923288</td>\n",
       "      <td>65.893984</td>\n",
       "      <td>33.707333</td>\n",
       "      <td>28.780026</td>\n",
       "      <td>39.828222</td>\n",
       "      <td>45.314353</td>\n",
       "      <td>78.435680</td>\n",
       "      <td>67.377510</td>\n",
       "    </tr>\n",
       "    <tr>\n",
       "      <th>...</th>\n",
       "      <td>...</td>\n",
       "      <td>...</td>\n",
       "      <td>...</td>\n",
       "      <td>...</td>\n",
       "      <td>...</td>\n",
       "      <td>...</td>\n",
       "      <td>...</td>\n",
       "      <td>...</td>\n",
       "      <td>...</td>\n",
       "      <td>...</td>\n",
       "      <td>...</td>\n",
       "    </tr>\n",
       "    <tr>\n",
       "      <th>61855</th>\n",
       "      <td>ENSG00000271254</td>\n",
       "      <td>AC240274.1</td>\n",
       "      <td>18.098610</td>\n",
       "      <td>17.877500</td>\n",
       "      <td>32.143410</td>\n",
       "      <td>63.770630</td>\n",
       "      <td>47.549610</td>\n",
       "      <td>66.668980</td>\n",
       "      <td>103.453500</td>\n",
       "      <td>79.094800</td>\n",
       "      <td>130.791600</td>\n",
       "    </tr>\n",
       "    <tr>\n",
       "      <th>61856</th>\n",
       "      <td>ENSG00000275987</td>\n",
       "      <td>U1</td>\n",
       "      <td>0.000000</td>\n",
       "      <td>0.000000</td>\n",
       "      <td>0.000000</td>\n",
       "      <td>0.000000</td>\n",
       "      <td>0.000000</td>\n",
       "      <td>0.000000</td>\n",
       "      <td>0.000000</td>\n",
       "      <td>0.000000</td>\n",
       "      <td>0.000000</td>\n",
       "    </tr>\n",
       "    <tr>\n",
       "      <th>61857</th>\n",
       "      <td>ENSG00000268674</td>\n",
       "      <td>AC213203.1</td>\n",
       "      <td>0.000000</td>\n",
       "      <td>0.000000</td>\n",
       "      <td>0.000000</td>\n",
       "      <td>0.000000</td>\n",
       "      <td>0.000000</td>\n",
       "      <td>0.000000</td>\n",
       "      <td>0.000000</td>\n",
       "      <td>0.000000</td>\n",
       "      <td>0.000000</td>\n",
       "    </tr>\n",
       "    <tr>\n",
       "      <th>61858</th>\n",
       "      <td>ENSG00000277475</td>\n",
       "      <td>AC213203.2</td>\n",
       "      <td>0.000000</td>\n",
       "      <td>1.117344</td>\n",
       "      <td>0.000000</td>\n",
       "      <td>0.000000</td>\n",
       "      <td>0.000000</td>\n",
       "      <td>0.000000</td>\n",
       "      <td>0.854988</td>\n",
       "      <td>0.000000</td>\n",
       "      <td>1.981691</td>\n",
       "    </tr>\n",
       "    <tr>\n",
       "      <th>61859</th>\n",
       "      <td>ENSG00000275405</td>\n",
       "      <td>U1</td>\n",
       "      <td>2.784401</td>\n",
       "      <td>0.000000</td>\n",
       "      <td>0.000000</td>\n",
       "      <td>0.911009</td>\n",
       "      <td>1.251305</td>\n",
       "      <td>0.000000</td>\n",
       "      <td>1.709976</td>\n",
       "      <td>1.318247</td>\n",
       "      <td>0.660564</td>\n",
       "    </tr>\n",
       "  </tbody>\n",
       "</table>\n",
       "<p>61860 rows × 11 columns</p>\n",
       "</div>"
      ],
      "text/plain": [
       "                  gene      symbol  RPTEC_2D_1  RPTEC_2D_2  RPTEC_2D_3  \\\n",
       "0      ENSG00000160072      ATAD3B  334.128127  313.973628  355.184647   \n",
       "1      ENSG00000234396  AL590822.1    1.392201    0.000000    0.000000   \n",
       "2      ENSG00000225972    MTND1P23    1.392201    3.352032    3.214341   \n",
       "3      ENSG00000224315      RPL7P7    0.000000    1.117344    0.000000   \n",
       "4      ENSG00000198744    MTCO3P12   64.041224   65.923288   65.893984   \n",
       "...                ...         ...         ...         ...         ...   \n",
       "61855  ENSG00000271254  AC240274.1   18.098610   17.877500   32.143410   \n",
       "61856  ENSG00000275987          U1    0.000000    0.000000    0.000000   \n",
       "61857  ENSG00000268674  AC213203.1    0.000000    0.000000    0.000000   \n",
       "61858  ENSG00000277475  AC213203.2    0.000000    1.117344    0.000000   \n",
       "61859  ENSG00000275405          U1    2.784401    0.000000    0.000000   \n",
       "\n",
       "       RPTEC_3D_D31_1  RPTEC_3D_D31_2  RPTEC_3D_D31_3  RPTEC_3D_D67_1  \\\n",
       "0          372.602687      349.114230      443.305426      618.156178   \n",
       "1            0.000000        0.000000        0.000000        0.000000   \n",
       "2            0.911009        0.000000        1.731662        3.419951   \n",
       "3            0.000000        0.000000        0.865831        0.000000   \n",
       "4           33.707333       28.780026       39.828222       45.314353   \n",
       "...               ...             ...             ...             ...   \n",
       "61855       63.770630       47.549610       66.668980      103.453500   \n",
       "61856        0.000000        0.000000        0.000000        0.000000   \n",
       "61857        0.000000        0.000000        0.000000        0.000000   \n",
       "61858        0.000000        0.000000        0.000000        0.854988   \n",
       "61859        0.911009        1.251305        0.000000        1.709976   \n",
       "\n",
       "       RPTEC_3D_D67_2  RPTEC_3D_D67_3  \n",
       "0          609.689109      656.600444  \n",
       "1            0.000000        0.000000  \n",
       "2            6.591234        3.963383  \n",
       "3            0.659123        0.660564  \n",
       "4           78.435680       67.377510  \n",
       "...               ...             ...  \n",
       "61855       79.094800      130.791600  \n",
       "61856        0.000000        0.000000  \n",
       "61857        0.000000        0.000000  \n",
       "61858        0.000000        1.981691  \n",
       "61859        1.318247        0.660564  \n",
       "\n",
       "[61860 rows x 11 columns]"
      ]
     },
     "execution_count": 22,
     "metadata": {},
     "output_type": "execute_result"
    }
   ],
   "source": [
    "data"
   ]
  },
  {
   "cell_type": "code",
   "execution_count": 23,
   "id": "2edc95b9",
   "metadata": {},
   "outputs": [],
   "source": [
    "cpm=cpm(data)"
   ]
  },
  {
   "cell_type": "code",
   "execution_count": 24,
   "id": "d33a5a00",
   "metadata": {},
   "outputs": [],
   "source": [
    "logv=np.log2(cpm+1)"
   ]
  },
  {
   "cell_type": "code",
   "execution_count": 25,
   "id": "e85a1864",
   "metadata": {},
   "outputs": [
    {
     "data": {
      "text/plain": [
       "<AxesSubplot:>"
      ]
     },
     "execution_count": 25,
     "metadata": {},
     "output_type": "execute_result"
    },
    {
     "data": {
      "image/png": "[encoded data removed]",
      "text/plain": [
       "<Figure size 1170x827 with 2 Axes>"
      ]
     },
     "metadata": {},
     "output_type": "display_data"
    }
   ],
   "source": [
    "import scipy.stats as st\n",
    "zscr=st.zscore(logv)\n",
    "    \n",
    "zscr=pd.DataFrame(zscr)\n",
    "new=zscr.T\n",
    "#new['symbol']=gene_name\n",
    "zscr=new.fillna(0)\n",
    "#zscr['symbol']=gene_name\n",
    "zscr=zscr.values\n",
    "    \n",
    "sns.set(rc={'figure.figsize':(11.7,8.27)})\n",
    "sns.heatmap(zscr[0:10],xticklabels=data.columns[2:14], yticklabels=genename[0:10],annot=False,cmap='gnuplot')"
   ]
  },
  {
   "cell_type": "code",
   "execution_count": 27,
   "id": "d5c50390",
   "metadata": {},
   "outputs": [],
   "source": [
    "#null hypothesis testing\n",
    "vec1=logv[0:6]"
   ]
  },
  {
   "cell_type": "code",
   "execution_count": 28,
   "id": "235d5689",
   "metadata": {},
   "outputs": [
    {
     "data": {
      "text/plain": [
       "array([[4.61790845, 0.13506626, 0.13506626, ..., 0.        , 0.        ,\n",
       "        0.25856293],\n",
       "       [4.56337843, 0.        , 0.31237094, ..., 0.        , 0.11180889,\n",
       "        0.        ],\n",
       "       [4.75381902, 0.        , 0.3046433 , ..., 0.        , 0.        ,\n",
       "        0.        ],\n",
       "       [4.932949  , 0.        , 0.10062994, ..., 0.        , 0.        ,\n",
       "        0.10062994],\n",
       "       [4.83031024, 0.        , 0.        , ..., 0.        , 0.        ,\n",
       "        0.13538222],\n",
       "       [5.18325494, 0.        , 0.1865311 , ..., 0.        , 0.        ,\n",
       "        0.        ]])"
      ]
     },
     "execution_count": 28,
     "metadata": {},
     "output_type": "execute_result"
    }
   ],
   "source": [
    "#control\n",
    "vec1"
   ]
  },
  {
   "cell_type": "code",
   "execution_count": 29,
   "id": "0705b35f",
   "metadata": {},
   "outputs": [],
   "source": [
    "vec2=logv[7:12]\n"
   ]
  },
  {
   "cell_type": "code",
   "execution_count": 30,
   "id": "008e6037",
   "metadata": {},
   "outputs": [
    {
     "data": {
      "text/plain": [
       "array([[5.65260056, 0.        , 0.61637272, ..., 0.        , 0.        ,\n",
       "        0.14613802],\n",
       "       [5.75559648, 0.        , 0.40062508, ..., 0.        , 0.21417434,\n",
       "        0.07498026]])"
      ]
     },
     "execution_count": 30,
     "metadata": {},
     "output_type": "execute_result"
    }
   ],
   "source": [
    "#tumor\n",
    "vec2"
   ]
  },
  {
   "cell_type": "code",
   "execution_count": 31,
   "id": "dcec83a1",
   "metadata": {},
   "outputs": [],
   "source": [
    "meanTumor=np.mean(vec1,axis=0)"
   ]
  },
  {
   "cell_type": "code",
   "execution_count": 32,
   "id": "5260ad47",
   "metadata": {},
   "outputs": [
    {
     "data": {
      "text/plain": [
       "array([4.81360335, 0.02251104, 0.17320692, ..., 0.        , 0.01863482,\n",
       "       0.08242918])"
      ]
     },
     "execution_count": 32,
     "metadata": {},
     "output_type": "execute_result"
    }
   ],
   "source": [
    "meanTumor"
   ]
  },
  {
   "cell_type": "code",
   "execution_count": 33,
   "id": "0e0785b8",
   "metadata": {},
   "outputs": [],
   "source": [
    "meanControl=np.mean(vec2,axis=0)"
   ]
  },
  {
   "cell_type": "code",
   "execution_count": 34,
   "id": "396ca085",
   "metadata": {},
   "outputs": [
    {
     "data": {
      "text/plain": [
       "array([5.70409852, 0.        , 0.5084989 , ..., 0.        , 0.10708717,\n",
       "       0.11055914])"
      ]
     },
     "execution_count": 34,
     "metadata": {},
     "output_type": "execute_result"
    }
   ],
   "source": [
    "meanControl"
   ]
  },
  {
   "cell_type": "code",
   "execution_count": 35,
   "id": "bc79db78",
   "metadata": {},
   "outputs": [],
   "source": [
    "from scipy.stats import ttest_ind"
   ]
  },
  {
   "cell_type": "code",
   "execution_count": 36,
   "id": "06b65d9e",
   "metadata": {},
   "outputs": [],
   "source": [
    "pvalue=ttest_ind(vec1,vec2).pvalue"
   ]
  },
  {
   "cell_type": "code",
   "execution_count": 37,
   "id": "35aec17f",
   "metadata": {},
   "outputs": [
    {
     "data": {
      "text/plain": [
       "array([0.00195785, 0.60364506, 0.01784889, ...,        nan, 0.19644355,\n",
       "       0.73598689])"
      ]
     },
     "execution_count": 37,
     "metadata": {},
     "output_type": "execute_result"
    }
   ],
   "source": [
    "pvalue"
   ]
  },
  {
   "cell_type": "code",
   "execution_count": 38,
   "id": "8f51931b",
   "metadata": {},
   "outputs": [],
   "source": [
    "log2FC=meanTumor-meanControl"
   ]
  },
  {
   "cell_type": "code",
   "execution_count": 39,
   "id": "6241dd69",
   "metadata": {},
   "outputs": [
    {
     "data": {
      "text/plain": [
       "array([-0.89049517,  0.02251104, -0.33529198, ...,  0.        ,\n",
       "       -0.08845236, -0.02812996])"
      ]
     },
     "execution_count": 39,
     "metadata": {},
     "output_type": "execute_result"
    }
   ],
   "source": [
    "log2FC"
   ]
  },
  {
   "cell_type": "code",
   "execution_count": 40,
   "id": "9a9da7db",
   "metadata": {},
   "outputs": [],
   "source": [
    "result=np.stack((meanTumor,meanControl,log2FC,pvalue),axis=0)"
   ]
  },
  {
   "cell_type": "code",
   "execution_count": 41,
   "id": "97e1bc14",
   "metadata": {},
   "outputs": [
    {
     "data": {
      "text/plain": [
       "array([[ 4.81360335e+00,  2.25110431e-02,  1.73206923e-01, ...,\n",
       "         0.00000000e+00,  1.86348152e-02,  8.24291814e-02],\n",
       "       [ 5.70409852e+00,  0.00000000e+00,  5.08498901e-01, ...,\n",
       "         0.00000000e+00,  1.07087171e-01,  1.10559139e-01],\n",
       "       [-8.90495172e-01,  2.25110431e-02, -3.35291978e-01, ...,\n",
       "         0.00000000e+00, -8.84523562e-02, -2.81299579e-02],\n",
       "       [ 1.95785247e-03,  6.03645057e-01,  1.78488927e-02, ...,\n",
       "                    nan,  1.96443550e-01,  7.35986893e-01]])"
      ]
     },
     "execution_count": 41,
     "metadata": {},
     "output_type": "execute_result"
    }
   ],
   "source": [
    "result"
   ]
  },
  {
   "cell_type": "code",
   "execution_count": 42,
   "id": "482c104c",
   "metadata": {},
   "outputs": [],
   "source": [
    "r=pd.DataFrame(result)\n",
    "r=r.T"
   ]
  },
  {
   "cell_type": "code",
   "execution_count": 43,
   "id": "bf563915",
   "metadata": {},
   "outputs": [],
   "source": [
    "r.columns=[\"meanTumor\",\"meanControl\",\"log2FC\",\"pvalue\"]"
   ]
  },
  {
   "cell_type": "code",
   "execution_count": 48,
   "id": "11d10c2c",
   "metadata": {},
   "outputs": [
    {
     "data": {
      "text/html": [
       "<div>\n",
       "<style scoped>\n",
       "    .dataframe tbody tr th:only-of-type {\n",
       "        vertical-align: middle;\n",
       "    }\n",
       "\n",
       "    .dataframe tbody tr th {\n",
       "        vertical-align: top;\n",
       "    }\n",
       "\n",
       "    .dataframe thead th {\n",
       "        text-align: right;\n",
       "    }\n",
       "</style>\n",
       "<table border=\"1\" class=\"dataframe\">\n",
       "  <thead>\n",
       "    <tr style=\"text-align: right;\">\n",
       "      <th></th>\n",
       "      <th>meanTumor</th>\n",
       "      <th>meanControl</th>\n",
       "      <th>log2FC</th>\n",
       "      <th>pvalue</th>\n",
       "    </tr>\n",
       "  </thead>\n",
       "  <tbody>\n",
       "    <tr>\n",
       "      <th>0</th>\n",
       "      <td>4.813603</td>\n",
       "      <td>5.704099</td>\n",
       "      <td>-0.890495</td>\n",
       "      <td>0.001958</td>\n",
       "    </tr>\n",
       "    <tr>\n",
       "      <th>1</th>\n",
       "      <td>0.022511</td>\n",
       "      <td>0.000000</td>\n",
       "      <td>0.022511</td>\n",
       "      <td>0.603645</td>\n",
       "    </tr>\n",
       "    <tr>\n",
       "      <th>2</th>\n",
       "      <td>0.173207</td>\n",
       "      <td>0.508499</td>\n",
       "      <td>-0.335292</td>\n",
       "      <td>0.017849</td>\n",
       "    </tr>\n",
       "    <tr>\n",
       "      <th>3</th>\n",
       "      <td>0.034681</td>\n",
       "      <td>0.074949</td>\n",
       "      <td>-0.040268</td>\n",
       "      <td>0.355308</td>\n",
       "    </tr>\n",
       "    <tr>\n",
       "      <th>4</th>\n",
       "      <td>2.195593</td>\n",
       "      <td>2.781856</td>\n",
       "      <td>-0.586263</td>\n",
       "      <td>0.076264</td>\n",
       "    </tr>\n",
       "    <tr>\n",
       "      <th>...</th>\n",
       "      <td>...</td>\n",
       "      <td>...</td>\n",
       "      <td>...</td>\n",
       "      <td>...</td>\n",
       "    </tr>\n",
       "    <tr>\n",
       "      <th>61855</th>\n",
       "      <td>1.937926</td>\n",
       "      <td>3.209090</td>\n",
       "      <td>-1.271164</td>\n",
       "      <td>0.049411</td>\n",
       "    </tr>\n",
       "    <tr>\n",
       "      <th>61856</th>\n",
       "      <td>0.000000</td>\n",
       "      <td>0.000000</td>\n",
       "      <td>0.000000</td>\n",
       "      <td>NaN</td>\n",
       "    </tr>\n",
       "    <tr>\n",
       "      <th>61857</th>\n",
       "      <td>0.000000</td>\n",
       "      <td>0.000000</td>\n",
       "      <td>0.000000</td>\n",
       "      <td>NaN</td>\n",
       "    </tr>\n",
       "    <tr>\n",
       "      <th>61858</th>\n",
       "      <td>0.018635</td>\n",
       "      <td>0.107087</td>\n",
       "      <td>-0.088452</td>\n",
       "      <td>0.196444</td>\n",
       "    </tr>\n",
       "    <tr>\n",
       "      <th>61859</th>\n",
       "      <td>0.082429</td>\n",
       "      <td>0.110559</td>\n",
       "      <td>-0.028130</td>\n",
       "      <td>0.735987</td>\n",
       "    </tr>\n",
       "  </tbody>\n",
       "</table>\n",
       "<p>61860 rows × 4 columns</p>\n",
       "</div>"
      ],
      "text/plain": [
       "       meanTumor  meanControl    log2FC    pvalue\n",
       "0       4.813603     5.704099 -0.890495  0.001958\n",
       "1       0.022511     0.000000  0.022511  0.603645\n",
       "2       0.173207     0.508499 -0.335292  0.017849\n",
       "3       0.034681     0.074949 -0.040268  0.355308\n",
       "4       2.195593     2.781856 -0.586263  0.076264\n",
       "...          ...          ...       ...       ...\n",
       "61855   1.937926     3.209090 -1.271164  0.049411\n",
       "61856   0.000000     0.000000  0.000000       NaN\n",
       "61857   0.000000     0.000000  0.000000       NaN\n",
       "61858   0.018635     0.107087 -0.088452  0.196444\n",
       "61859   0.082429     0.110559 -0.028130  0.735987\n",
       "\n",
       "[61860 rows x 4 columns]"
      ]
     },
     "execution_count": 48,
     "metadata": {},
     "output_type": "execute_result"
    }
   ],
   "source": [
    "r"
   ]
  },
  {
   "cell_type": "code",
   "execution_count": 49,
   "id": "42488c7d",
   "metadata": {},
   "outputs": [],
   "source": [
    "r['gene']=gene_name"
   ]
  },
  {
   "cell_type": "code",
   "execution_count": 50,
   "id": "592e51ec",
   "metadata": {},
   "outputs": [],
   "source": [
    "#r[\"gene\"] = r.gene.shift(-1)\n",
    "col_1=r.pop('gene')\n",
    "r.insert(0,'gene',col_1)"
   ]
  },
  {
   "cell_type": "code",
   "execution_count": 51,
   "id": "e68acaec",
   "metadata": {},
   "outputs": [
    {
     "data": {
      "text/html": [
       "<div>\n",
       "<style scoped>\n",
       "    .dataframe tbody tr th:only-of-type {\n",
       "        vertical-align: middle;\n",
       "    }\n",
       "\n",
       "    .dataframe tbody tr th {\n",
       "        vertical-align: top;\n",
       "    }\n",
       "\n",
       "    .dataframe thead th {\n",
       "        text-align: right;\n",
       "    }\n",
       "</style>\n",
       "<table border=\"1\" class=\"dataframe\">\n",
       "  <thead>\n",
       "    <tr style=\"text-align: right;\">\n",
       "      <th></th>\n",
       "      <th>gene</th>\n",
       "      <th>meanTumor</th>\n",
       "      <th>meanControl</th>\n",
       "      <th>log2FC</th>\n",
       "      <th>pvalue</th>\n",
       "    </tr>\n",
       "  </thead>\n",
       "  <tbody>\n",
       "    <tr>\n",
       "      <th>0</th>\n",
       "      <td>ATAD3B</td>\n",
       "      <td>4.813603</td>\n",
       "      <td>5.704099</td>\n",
       "      <td>-0.890495</td>\n",
       "      <td>0.001958</td>\n",
       "    </tr>\n",
       "    <tr>\n",
       "      <th>1</th>\n",
       "      <td>AL590822.1</td>\n",
       "      <td>0.022511</td>\n",
       "      <td>0.000000</td>\n",
       "      <td>0.022511</td>\n",
       "      <td>0.603645</td>\n",
       "    </tr>\n",
       "    <tr>\n",
       "      <th>2</th>\n",
       "      <td>MTND1P23</td>\n",
       "      <td>0.173207</td>\n",
       "      <td>0.508499</td>\n",
       "      <td>-0.335292</td>\n",
       "      <td>0.017849</td>\n",
       "    </tr>\n",
       "    <tr>\n",
       "      <th>3</th>\n",
       "      <td>RPL7P7</td>\n",
       "      <td>0.034681</td>\n",
       "      <td>0.074949</td>\n",
       "      <td>-0.040268</td>\n",
       "      <td>0.355308</td>\n",
       "    </tr>\n",
       "    <tr>\n",
       "      <th>4</th>\n",
       "      <td>MTCO3P12</td>\n",
       "      <td>2.195593</td>\n",
       "      <td>2.781856</td>\n",
       "      <td>-0.586263</td>\n",
       "      <td>0.076264</td>\n",
       "    </tr>\n",
       "    <tr>\n",
       "      <th>...</th>\n",
       "      <td>...</td>\n",
       "      <td>...</td>\n",
       "      <td>...</td>\n",
       "      <td>...</td>\n",
       "      <td>...</td>\n",
       "    </tr>\n",
       "    <tr>\n",
       "      <th>61855</th>\n",
       "      <td>AC240274.1</td>\n",
       "      <td>1.937926</td>\n",
       "      <td>3.209090</td>\n",
       "      <td>-1.271164</td>\n",
       "      <td>0.049411</td>\n",
       "    </tr>\n",
       "    <tr>\n",
       "      <th>61856</th>\n",
       "      <td>U1</td>\n",
       "      <td>0.000000</td>\n",
       "      <td>0.000000</td>\n",
       "      <td>0.000000</td>\n",
       "      <td>NaN</td>\n",
       "    </tr>\n",
       "    <tr>\n",
       "      <th>61857</th>\n",
       "      <td>AC213203.1</td>\n",
       "      <td>0.000000</td>\n",
       "      <td>0.000000</td>\n",
       "      <td>0.000000</td>\n",
       "      <td>NaN</td>\n",
       "    </tr>\n",
       "    <tr>\n",
       "      <th>61858</th>\n",
       "      <td>AC213203.2</td>\n",
       "      <td>0.018635</td>\n",
       "      <td>0.107087</td>\n",
       "      <td>-0.088452</td>\n",
       "      <td>0.196444</td>\n",
       "    </tr>\n",
       "    <tr>\n",
       "      <th>61859</th>\n",
       "      <td>U1</td>\n",
       "      <td>0.082429</td>\n",
       "      <td>0.110559</td>\n",
       "      <td>-0.028130</td>\n",
       "      <td>0.735987</td>\n",
       "    </tr>\n",
       "  </tbody>\n",
       "</table>\n",
       "<p>61860 rows × 5 columns</p>\n",
       "</div>"
      ],
      "text/plain": [
       "             gene  meanTumor  meanControl    log2FC    pvalue\n",
       "0          ATAD3B   4.813603     5.704099 -0.890495  0.001958\n",
       "1      AL590822.1   0.022511     0.000000  0.022511  0.603645\n",
       "2        MTND1P23   0.173207     0.508499 -0.335292  0.017849\n",
       "3          RPL7P7   0.034681     0.074949 -0.040268  0.355308\n",
       "4        MTCO3P12   2.195593     2.781856 -0.586263  0.076264\n",
       "...           ...        ...          ...       ...       ...\n",
       "61855  AC240274.1   1.937926     3.209090 -1.271164  0.049411\n",
       "61856          U1   0.000000     0.000000  0.000000       NaN\n",
       "61857  AC213203.1   0.000000     0.000000  0.000000       NaN\n",
       "61858  AC213203.2   0.018635     0.107087 -0.088452  0.196444\n",
       "61859          U1   0.082429     0.110559 -0.028130  0.735987\n",
       "\n",
       "[61860 rows x 5 columns]"
      ]
     },
     "execution_count": 51,
     "metadata": {},
     "output_type": "execute_result"
    }
   ],
   "source": [
    "r"
   ]
  },
  {
   "cell_type": "code",
   "execution_count": 52,
   "id": "5bf952dc",
   "metadata": {},
   "outputs": [],
   "source": [
    "r['pvalue']=r['pvalue'].fillna(1)"
   ]
  },
  {
   "cell_type": "code",
   "execution_count": 53,
   "id": "166f3e1e",
   "metadata": {},
   "outputs": [
    {
     "data": {
      "text/html": [
       "<div>\n",
       "<style scoped>\n",
       "    .dataframe tbody tr th:only-of-type {\n",
       "        vertical-align: middle;\n",
       "    }\n",
       "\n",
       "    .dataframe tbody tr th {\n",
       "        vertical-align: top;\n",
       "    }\n",
       "\n",
       "    .dataframe thead th {\n",
       "        text-align: right;\n",
       "    }\n",
       "</style>\n",
       "<table border=\"1\" class=\"dataframe\">\n",
       "  <thead>\n",
       "    <tr style=\"text-align: right;\">\n",
       "      <th></th>\n",
       "      <th>gene</th>\n",
       "      <th>meanTumor</th>\n",
       "      <th>meanControl</th>\n",
       "      <th>log2FC</th>\n",
       "      <th>pvalue</th>\n",
       "    </tr>\n",
       "  </thead>\n",
       "  <tbody>\n",
       "    <tr>\n",
       "      <th>0</th>\n",
       "      <td>ATAD3B</td>\n",
       "      <td>4.813603</td>\n",
       "      <td>5.704099</td>\n",
       "      <td>-0.890495</td>\n",
       "      <td>0.001958</td>\n",
       "    </tr>\n",
       "    <tr>\n",
       "      <th>1</th>\n",
       "      <td>AL590822.1</td>\n",
       "      <td>0.022511</td>\n",
       "      <td>0.000000</td>\n",
       "      <td>0.022511</td>\n",
       "      <td>0.603645</td>\n",
       "    </tr>\n",
       "    <tr>\n",
       "      <th>2</th>\n",
       "      <td>MTND1P23</td>\n",
       "      <td>0.173207</td>\n",
       "      <td>0.508499</td>\n",
       "      <td>-0.335292</td>\n",
       "      <td>0.017849</td>\n",
       "    </tr>\n",
       "    <tr>\n",
       "      <th>3</th>\n",
       "      <td>RPL7P7</td>\n",
       "      <td>0.034681</td>\n",
       "      <td>0.074949</td>\n",
       "      <td>-0.040268</td>\n",
       "      <td>0.355308</td>\n",
       "    </tr>\n",
       "    <tr>\n",
       "      <th>4</th>\n",
       "      <td>MTCO3P12</td>\n",
       "      <td>2.195593</td>\n",
       "      <td>2.781856</td>\n",
       "      <td>-0.586263</td>\n",
       "      <td>0.076264</td>\n",
       "    </tr>\n",
       "    <tr>\n",
       "      <th>...</th>\n",
       "      <td>...</td>\n",
       "      <td>...</td>\n",
       "      <td>...</td>\n",
       "      <td>...</td>\n",
       "      <td>...</td>\n",
       "    </tr>\n",
       "    <tr>\n",
       "      <th>61855</th>\n",
       "      <td>AC240274.1</td>\n",
       "      <td>1.937926</td>\n",
       "      <td>3.209090</td>\n",
       "      <td>-1.271164</td>\n",
       "      <td>0.049411</td>\n",
       "    </tr>\n",
       "    <tr>\n",
       "      <th>61856</th>\n",
       "      <td>U1</td>\n",
       "      <td>0.000000</td>\n",
       "      <td>0.000000</td>\n",
       "      <td>0.000000</td>\n",
       "      <td>1.000000</td>\n",
       "    </tr>\n",
       "    <tr>\n",
       "      <th>61857</th>\n",
       "      <td>AC213203.1</td>\n",
       "      <td>0.000000</td>\n",
       "      <td>0.000000</td>\n",
       "      <td>0.000000</td>\n",
       "      <td>1.000000</td>\n",
       "    </tr>\n",
       "    <tr>\n",
       "      <th>61858</th>\n",
       "      <td>AC213203.2</td>\n",
       "      <td>0.018635</td>\n",
       "      <td>0.107087</td>\n",
       "      <td>-0.088452</td>\n",
       "      <td>0.196444</td>\n",
       "    </tr>\n",
       "    <tr>\n",
       "      <th>61859</th>\n",
       "      <td>U1</td>\n",
       "      <td>0.082429</td>\n",
       "      <td>0.110559</td>\n",
       "      <td>-0.028130</td>\n",
       "      <td>0.735987</td>\n",
       "    </tr>\n",
       "  </tbody>\n",
       "</table>\n",
       "<p>61860 rows × 5 columns</p>\n",
       "</div>"
      ],
      "text/plain": [
       "             gene  meanTumor  meanControl    log2FC    pvalue\n",
       "0          ATAD3B   4.813603     5.704099 -0.890495  0.001958\n",
       "1      AL590822.1   0.022511     0.000000  0.022511  0.603645\n",
       "2        MTND1P23   0.173207     0.508499 -0.335292  0.017849\n",
       "3          RPL7P7   0.034681     0.074949 -0.040268  0.355308\n",
       "4        MTCO3P12   2.195593     2.781856 -0.586263  0.076264\n",
       "...           ...        ...          ...       ...       ...\n",
       "61855  AC240274.1   1.937926     3.209090 -1.271164  0.049411\n",
       "61856          U1   0.000000     0.000000  0.000000  1.000000\n",
       "61857  AC213203.1   0.000000     0.000000  0.000000  1.000000\n",
       "61858  AC213203.2   0.018635     0.107087 -0.088452  0.196444\n",
       "61859          U1   0.082429     0.110559 -0.028130  0.735987\n",
       "\n",
       "[61860 rows x 5 columns]"
      ]
     },
     "execution_count": 53,
     "metadata": {},
     "output_type": "execute_result"
    }
   ],
   "source": [
    "r"
   ]
  },
  {
   "cell_type": "code",
   "execution_count": 54,
   "id": "b4025866",
   "metadata": {},
   "outputs": [
    {
     "name": "stdout",
     "output_type": "stream",
     "text": [
      "Collecting bioinfokit\n",
      "  Downloading bioinfokit-2.1.0.tar.gz (86 kB)\n",
      "     ---------------------------------------- 87.0/87.0 KB 1.6 MB/s eta 0:00:00\n",
      "  Preparing metadata (setup.py): started\n",
      "  Preparing metadata (setup.py): finished with status 'done'\n",
      "Requirement already satisfied: pandas in c:\\users\\premb\\appdata\\local\\programs\\python\\python310\\lib\\site-packages (from bioinfokit) (1.4.3)\n",
      "Requirement already satisfied: numpy in c:\\users\\premb\\appdata\\local\\programs\\python\\python310\\lib\\site-packages (from bioinfokit) (1.23.1)\n",
      "Requirement already satisfied: matplotlib in c:\\users\\premb\\appdata\\local\\programs\\python\\python310\\lib\\site-packages (from bioinfokit) (3.5.2)\n",
      "Requirement already satisfied: scipy in c:\\users\\premb\\appdata\\local\\programs\\python\\python310\\lib\\site-packages (from bioinfokit) (1.9.0)\n",
      "Requirement already satisfied: scikit-learn in c:\\users\\premb\\appdata\\local\\programs\\python\\python310\\lib\\site-packages (from bioinfokit) (1.1.2)\n",
      "Requirement already satisfied: seaborn in c:\\users\\premb\\appdata\\local\\programs\\python\\python310\\lib\\site-packages (from bioinfokit) (0.11.2)\n",
      "Collecting matplotlib-venn\n",
      "  Downloading matplotlib-venn-0.11.7.tar.gz (29 kB)\n",
      "  Preparing metadata (setup.py): started\n",
      "  Preparing metadata (setup.py): finished with status 'done'\n",
      "Collecting tabulate\n",
      "  Downloading tabulate-0.9.0-py3-none-any.whl (35 kB)\n",
      "Collecting statsmodels\n",
      "  Downloading statsmodels-0.13.2-cp310-cp310-win_amd64.whl (9.1 MB)\n",
      "     ---------------------------------------- 9.1/9.1 MB 3.1 MB/s eta 0:00:00\n",
      "Collecting textwrap3\n",
      "  Downloading textwrap3-0.9.2-py2.py3-none-any.whl (12 kB)\n",
      "Collecting adjustText\n",
      "  Downloading adjustText-0.7.3.tar.gz (7.5 kB)\n",
      "  Preparing metadata (setup.py): started\n",
      "  Preparing metadata (setup.py): finished with status 'done'\n",
      "Requirement already satisfied: cycler>=0.10 in c:\\users\\premb\\appdata\\local\\programs\\python\\python310\\lib\\site-packages (from matplotlib->bioinfokit) (0.11.0)\n",
      "Requirement already satisfied: kiwisolver>=1.0.1 in c:\\users\\premb\\appdata\\local\\programs\\python\\python310\\lib\\site-packages (from matplotlib->bioinfokit) (1.4.4)\n",
      "Requirement already satisfied: python-dateutil>=2.7 in c:\\users\\premb\\appdata\\local\\programs\\python\\python310\\lib\\site-packages (from matplotlib->bioinfokit) (2.8.2)\n",
      "Requirement already satisfied: fonttools>=4.22.0 in c:\\users\\premb\\appdata\\local\\programs\\python\\python310\\lib\\site-packages (from matplotlib->bioinfokit) (4.34.4)\n",
      "Requirement already satisfied: packaging>=20.0 in c:\\users\\premb\\appdata\\local\\programs\\python\\python310\\lib\\site-packages (from matplotlib->bioinfokit) (21.3)\n",
      "Requirement already satisfied: pyparsing>=2.2.1 in c:\\users\\premb\\appdata\\local\\programs\\python\\python310\\lib\\site-packages (from matplotlib->bioinfokit) (3.0.9)\n",
      "Requirement already satisfied: pillow>=6.2.0 in c:\\users\\premb\\appdata\\local\\programs\\python\\python310\\lib\\site-packages (from matplotlib->bioinfokit) (9.2.0)\n",
      "Requirement already satisfied: pytz>=2020.1 in c:\\users\\premb\\appdata\\local\\programs\\python\\python310\\lib\\site-packages (from pandas->bioinfokit) (2022.1)\n",
      "Requirement already satisfied: threadpoolctl>=2.0.0 in c:\\users\\premb\\appdata\\local\\programs\\python\\python310\\lib\\site-packages (from scikit-learn->bioinfokit) (3.1.0)\n",
      "Requirement already satisfied: joblib>=1.0.0 in c:\\users\\premb\\appdata\\local\\programs\\python\\python310\\lib\\site-packages (from scikit-learn->bioinfokit) (1.1.0)\n",
      "Collecting patsy>=0.5.2\n",
      "  Downloading patsy-0.5.2-py2.py3-none-any.whl (233 kB)\n",
      "     -------------------------------------- 233.7/233.7 KB 3.5 MB/s eta 0:00:00\n",
      "Requirement already satisfied: six in c:\\users\\premb\\appdata\\local\\programs\\python\\python310\\lib\\site-packages (from patsy>=0.5.2->statsmodels->bioinfokit) (1.16.0)\n",
      "Using legacy 'setup.py install' for bioinfokit, since package 'wheel' is not installed.\n",
      "Using legacy 'setup.py install' for adjustText, since package 'wheel' is not installed.\n",
      "Using legacy 'setup.py install' for matplotlib-venn, since package 'wheel' is not installed.\n",
      "Installing collected packages: textwrap3, tabulate, patsy, statsmodels, matplotlib-venn, adjustText, bioinfokit\n",
      "  Running setup.py install for matplotlib-venn: started\n",
      "  Running setup.py install for matplotlib-venn: finished with status 'done'\n",
      "  Running setup.py install for adjustText: started\n",
      "  Running setup.py install for adjustText: finished with status 'done'\n",
      "  Running setup.py install for bioinfokit: started\n",
      "  Running setup.py install for bioinfokit: finished with status 'done'\n",
      "Successfully installed adjustText-0.7.3 bioinfokit-2.1.0 matplotlib-venn-0.11.7 patsy-0.5.2 statsmodels-0.13.2 tabulate-0.9.0 textwrap3-0.9.2\n",
      "Note: you may need to restart the kernel to use updated packages.\n"
     ]
    },
    {
     "name": "stderr",
     "output_type": "stream",
     "text": [
      "WARNING: You are using pip version 22.0.4; however, version 22.2.2 is available.\n",
      "You should consider upgrading via the 'C:\\Users\\premb\\AppData\\Local\\Programs\\Python\\Python310\\python.exe -m pip install --upgrade pip' command.\n"
     ]
    }
   ],
   "source": [
    "pip install bioinfokit"
   ]
  },
  {
   "cell_type": "code",
   "execution_count": 58,
   "id": "1f16c56b",
   "metadata": {},
   "outputs": [],
   "source": [
    "r.to_csv(\"DEG.csv\",index=False)"
   ]
  },
  {
   "cell_type": "code",
   "execution_count": 55,
   "id": "d5d44e11",
   "metadata": {},
   "outputs": [],
   "source": [
    "#!pip install bioinfokit\n",
    "from bioinfokit import analys, visuz"
   ]
  },
  {
   "cell_type": "code",
   "execution_count": 56,
   "id": "668fbb39",
   "metadata": {},
   "outputs": [
    {
     "data": {
      "image/png": "[encoded data removed]",
      "text/plain": [
       "<Figure size 500x500 with 1 Axes>"
      ]
     },
     "metadata": {},
     "output_type": "display_data"
    }
   ],
   "source": [
    "visuz.GeneExpression.volcano(r, lfc='log2FC', pv='pvalue',plotlegend=True, legendpos='upper right', \n",
    "    legendanchor=(1.46,1),show=True)"
   ]
  },
  {
   "cell_type": "code",
   "execution_count": null,
   "id": "3902be20",
   "metadata": {},
   "outputs": [],
   "source": []
  }
 ],
 "metadata": {
  "kernelspec": {
   "display_name": "Python 3 (ipykernel)",
   "language": "python",
   "name": "python3"
  },
  "language_info": {
   "codemirror_mode": {
    "name": "ipython",
    "version": 3
   },
   "file_extension": ".py",
   "mimetype": "text/x-python",
   "name": "python",
   "nbconvert_exporter": "python",
   "pygments_lexer": "ipython3",
   "version": "3.10.4"
  }
 },
 "nbformat": 4,
 "nbformat_minor": 5
}
